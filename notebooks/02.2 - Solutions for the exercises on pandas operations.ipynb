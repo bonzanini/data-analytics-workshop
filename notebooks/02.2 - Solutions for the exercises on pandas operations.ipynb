{
 "cells": [
  {
   "cell_type": "markdown",
   "metadata": {},
   "source": [
    "## Exercises on pandas operations\n",
    "\n",
    "\n",
    "This notebooks contains some exercises to practice the concepts learned in the notebook [02 - pandas operations](02%20-%20pandas%20operations.ipynb) as well as [01 - pandas basics](01%20-%20pandas%20basics.ipynb).\n",
    "\n",
    "#### Instructions & suggestions\n",
    "\n",
    "- Run the first cell below these instructions to load the data\n",
    "- For more complex questions, you can iteratively build your solution starting from the simpler pieces \n",
    "- There are enough questions to go overtime, feel free to take some of them home"
   ]
  },
  {
   "cell_type": "code",
   "execution_count": null,
   "metadata": {},
   "outputs": [],
   "source": [
    "%matplotlib inline\n",
    "\n",
    "import pandas as pd\n",
    "import numpy as np\n",
    "\n",
    "clients_file = '../data/fake_shop/fake_clients.csv'\n",
    "transactions_file = '../data/fake_shop/fake_transactions.csv'\n",
    "\n",
    "clients = pd.read_csv(clients_file, parse_dates=['date_of_birth'])\n",
    "transactions = pd.read_csv(transactions_file, parse_dates=['date'])"
   ]
  },
  {
   "cell_type": "markdown",
   "metadata": {},
   "source": [
    "### 1. List the number of customers per city"
   ]
  },
  {
   "cell_type": "code",
   "execution_count": null,
   "metadata": {},
   "outputs": [],
   "source": [
    "# In order of frequency high-to-low\n",
    "clients['city'].value_counts()"
   ]
  },
  {
   "cell_type": "code",
   "execution_count": null,
   "metadata": {},
   "outputs": [],
   "source": [
    "# In alphabetical order A-Z\n",
    "clients.groupby('city').size()"
   ]
  },
  {
   "cell_type": "markdown",
   "metadata": {},
   "source": [
    "### 2. Which product brings in the highest revenue?"
   ]
  },
  {
   "cell_type": "code",
   "execution_count": null,
   "metadata": {},
   "outputs": [],
   "source": [
    "# Use can use .head(1) to visualise just one\n",
    "transactions.groupby('product')['total'].sum().sort_values(ascending=False)"
   ]
  },
  {
   "cell_type": "markdown",
   "metadata": {},
   "source": [
    "### 3. List the revenue (sum of the total) per day"
   ]
  },
  {
   "cell_type": "code",
   "execution_count": null,
   "metadata": {},
   "outputs": [],
   "source": [
    "transactions.groupby('date')['total'].sum()"
   ]
  },
  {
   "cell_type": "markdown",
   "metadata": {},
   "source": [
    "### 4. List the number of transactions per day"
   ]
  },
  {
   "cell_type": "code",
   "execution_count": null,
   "metadata": {},
   "outputs": [],
   "source": [
    "transactions.groupby('date')['transaction_id'].nunique()"
   ]
  },
  {
   "cell_type": "markdown",
   "metadata": {},
   "source": [
    "### 5. Plot the number of clients per city (in alphabetical order)\n",
    "\n",
    "Plot with `kind='bar'` to product a bar chart."
   ]
  },
  {
   "cell_type": "code",
   "execution_count": null,
   "metadata": {},
   "outputs": [],
   "source": [
    "# groupby() returns in alphabetical order\n",
    "clients.groupby('city').size().plot(kind='bar')"
   ]
  },
  {
   "cell_type": "code",
   "execution_count": null,
   "metadata": {},
   "outputs": [],
   "source": [
    "# value_counts() returns in order of frequency\n",
    "# so we need to sort using the index/label, which is the city name\n",
    "clients['city'].value_counts().sort_index().plot(kind='bar')"
   ]
  },
  {
   "cell_type": "markdown",
   "metadata": {},
   "source": [
    "### 6. List the revenue (sum of the total) per city"
   ]
  },
  {
   "cell_type": "code",
   "execution_count": null,
   "metadata": {},
   "outputs": [],
   "source": [
    "join_df = pd.merge(left=clients, right=transactions, on='client_id')\n",
    "join_df.groupby('city')['total'].sum()"
   ]
  },
  {
   "cell_type": "markdown",
   "metadata": {},
   "source": [
    "### 7. List the number of transactions per client\n",
    "\n",
    "Show the client name and the number."
   ]
  },
  {
   "cell_type": "code",
   "execution_count": null,
   "metadata": {},
   "outputs": [],
   "source": [
    "join_df = pd.merge(left=clients, right=transactions, on='client_id')\n",
    "join_df.groupby('name')['transaction_id'].nunique()"
   ]
  },
  {
   "cell_type": "markdown",
   "metadata": {},
   "source": [
    "### 8. Plot the revenue (sum of the total) per city\n",
    "\n",
    "- Plot using `kind='bar'` to product a bar chart.\n",
    "- Add the title \"Revenue per city\" to the plot\n",
    "- Add the label \"Revenue\" to the Y-axis"
   ]
  },
  {
   "cell_type": "code",
   "execution_count": null,
   "metadata": {},
   "outputs": [],
   "source": [
    "join_df = pd.merge(left=clients, right=transactions, on='client_id')\n",
    "ax = join_df.groupby('city')['total'].sum().plot(kind='bar', title='Revenue per city')\n",
    "ax.set_ylabel('Revenue');"
   ]
  },
  {
   "cell_type": "markdown",
   "metadata": {},
   "source": [
    "### 9. Which product has sold the highest number of units?"
   ]
  },
  {
   "cell_type": "code",
   "execution_count": null,
   "metadata": {},
   "outputs": [],
   "source": [
    "transactions.groupby('product')['quantity'].sum().sort_values(ascending=False)"
   ]
  },
  {
   "cell_type": "markdown",
   "metadata": {},
   "source": [
    "### 10. Plot the total revenue per product\n",
    "\n",
    "Plot using `kind='bar'` to product a bar chart."
   ]
  },
  {
   "cell_type": "code",
   "execution_count": null,
   "metadata": {},
   "outputs": [],
   "source": [
    "transactions.groupby('product')['total'].sum().plot(kind='bar');"
   ]
  },
  {
   "cell_type": "markdown",
   "metadata": {},
   "source": [
    "### 11. For each city, list the revenue (sum of total) per product "
   ]
  },
  {
   "cell_type": "code",
   "execution_count": null,
   "metadata": {},
   "outputs": [],
   "source": [
    "join_df = pd.merge(left=clients, right=transactions, on='client_id')\n",
    "join_df.groupby(['city', 'product'])['total'].sum()"
   ]
  },
  {
   "cell_type": "markdown",
   "metadata": {},
   "source": [
    "### 12. For each different day, what's the average transaction total?"
   ]
  },
  {
   "cell_type": "code",
   "execution_count": null,
   "metadata": {},
   "outputs": [],
   "source": [
    "# aggregate per transaction, summing the total and showing the date\n",
    "total = transactions.groupby('transaction_id').agg({'total': 'sum', 'date': 'first'})\n",
    "# aggregate per date, computing the average of the total\n",
    "total.groupby('date')['total'].mean()"
   ]
  },
  {
   "cell_type": "markdown",
   "metadata": {},
   "source": [
    "### 13. For each different day, show the minimum and maximum revenue on a single transaction"
   ]
  },
  {
   "cell_type": "code",
   "execution_count": null,
   "metadata": {},
   "outputs": [],
   "source": [
    "# aggregate per transaction, summing the total and showing the date\n",
    "total = transactions.groupby('transaction_id').agg({'total': 'sum', 'date': 'first'})\n",
    "# aggregate per date, computing the average of the total\n",
    "total.groupby('date')['total'].agg(minimum=np.min, maximum=np.max)"
   ]
  },
  {
   "cell_type": "code",
   "execution_count": null,
   "metadata": {},
   "outputs": [],
   "source": []
  }
 ],
 "metadata": {
  "kernelspec": {
   "display_name": "Python 3",
   "language": "python",
   "name": "python3"
  },
  "language_info": {
   "codemirror_mode": {
    "name": "ipython",
    "version": 3
   },
   "file_extension": ".py",
   "mimetype": "text/x-python",
   "name": "python",
   "nbconvert_exporter": "python",
   "pygments_lexer": "ipython3",
   "version": "3.8.5"
  }
 },
 "nbformat": 4,
 "nbformat_minor": 2
}
