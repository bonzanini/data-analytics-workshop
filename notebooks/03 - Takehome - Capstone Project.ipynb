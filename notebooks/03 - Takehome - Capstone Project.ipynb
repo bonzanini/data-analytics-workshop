{
 "cells": [
  {
   "cell_type": "markdown",
   "metadata": {},
   "source": [
    "# Capstone Project\n",
    "\n",
    "This is meant to be an exercise to take home, but if you have finished the other workshop material earlier, you can start working on this one too.\n",
    "\n",
    "After learning the basics of pandas, it's time to apply your new knowledge on some interesting data.\n",
    "\n",
    "In this notebook, you'll perform some data analysis on a dataset of your choice, there are no limitations.\n",
    "\n",
    "In summary:\n",
    "\n",
    "1. Choose a dataset that sparks your curiosity (some examples of public datasets below)\n",
    "2. Start exploring the data: attributes, data types, missing data, summary statistics, etc.\n",
    "3. Think about some interesting questions about the data\n",
    "4. Try to answer those questions using code\n",
    "\n",
    "Some suggestions:\n",
    "\n",
    "- working in small groups could be more fun and could generate more interesting ideas\n",
    "- think big, but be aware of time constraints: you can focus on a couple of simpler exploratory questions first in order to get momentum, and tackle bigger challenges later -- you can continue working on this project after the workshop\n",
    "- choose a dataset that is already in a decent shape, e.g. in CSV (so you don't spend all your efforts to parse some broken PDF!)\n",
    "\n",
    "Examples of datasets:\n",
    "\n",
    "- [MovieLens dataset](https://grouplens.org/datasets/movielens/) - movie ratings (suggestion: use one of the smaller versions, e.g. 100k records)\n",
    "- [Titanic dataset](https://www.kaggle.com/c/titanic/data) - attributes about passengers of the Titanic (Kaggle registration required, you may find a similar version through a google search)\n",
    "- [Wine dataset](https://archive.ics.uci.edu/ml/datasets/Wine) - chemical analysis of different wines (small dataset)\n",
    "- [Zoo dataset](https://archive.ics.uci.edu/ml/datasets/Zoo) - attributes of different animals (small dataset)\n",
    "- [Flags dataset](https://archive.ics.uci.edu/ml/datasets/Flags) - attributes of world flags and related countries (small dataset)\n",
    "- [Football data](https://github.com/jokecamp/FootballData/tree/master/football-data.co.uk) - historical football results per country and per year (massive dataset)\n",
    "- [US Census dataset](https://archive.ics.uci.edu/ml/datasets/Census+Income) - extract of the 1994 US Census\n",
    "\n",
    "Other sources of data:\n",
    "\n",
    "- [Datasets from the \"Python for data analysis\" book](https://github.com/wesm/pydata-book) - the repository contains the data for the book examples\n",
    "- [Kaggle datasets](https://www.kaggle.com/datasets) - Kaggle is a platform for Machine Learning competitions that offers open datasets (registration required)\n",
    "- [awesome public datasets](https://github.com/awesomedata/awesome-public-datasets) - curated list of publicly available datasets\n",
    "- [UCI Machine Learning datasets](https://archive.ics.uci.edu/ml/datasets.php) - collection of academic datasets that could also be used for Machine Learning\n",
    "- [UK Government Digital Service Data](https://ckan.publishing.service.gov.uk/dataset) - publicly available data shared by the UK Government Digital Service\n",
    "- [US Government Data](https://www.data.gov/) - same as above, from the US Government"
   ]
  },
  {
   "cell_type": "markdown",
   "metadata": {},
   "source": [
    "# Go! :)"
   ]
  },
  {
   "cell_type": "code",
   "execution_count": null,
   "metadata": {},
   "outputs": [],
   "source": [
    "import pandas as pd\n",
    "\n",
    "# Now the sky is the limit\n"
   ]
  }
 ],
 "metadata": {
  "kernelspec": {
   "display_name": "Python 3",
   "language": "python",
   "name": "python3"
  },
  "language_info": {
   "codemirror_mode": {
    "name": "ipython",
    "version": 3
   },
   "file_extension": ".py",
   "mimetype": "text/x-python",
   "name": "python",
   "nbconvert_exporter": "python",
   "pygments_lexer": "ipython3",
   "version": "3.8.5"
  }
 },
 "nbformat": 4,
 "nbformat_minor": 2
}
