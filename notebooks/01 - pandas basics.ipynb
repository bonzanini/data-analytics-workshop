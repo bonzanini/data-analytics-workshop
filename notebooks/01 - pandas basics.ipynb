{
 "cells": [
  {
   "cell_type": "markdown",
   "metadata": {},
   "source": [
    "# pandas Basics\n",
    "\n",
    "[*pandas*](http://pandas.pydata.org/) is a popular data science tool for managing, manipulating and analyzing column-oriented data."
   ]
  },
  {
   "cell_type": "code",
   "execution_count": null,
   "metadata": {},
   "outputs": [],
   "source": [
    "import pandas as pd"
   ]
  },
  {
   "cell_type": "markdown",
   "metadata": {},
   "source": [
    "In this notebook, we will cover:\n",
    "\n",
    "- pandas data structures\n",
    "- Description of the data\n",
    "- Loading data from CSV\n",
    "- Inspecting the data\n",
    "- Data selection and filtering\n",
    "- Data transformation\n",
    "- Sorting values\n",
    "\n",
    "## 1. pandas data structures\n",
    "\n",
    "We'll work with two main [data structures](https://en.wikipedia.org/wiki/Data_structure) offered by pandas:\n",
    "\n",
    "- `Series`, an array-like (1-dimensional) data structure\n",
    "- `DataFrame`, a table-like (2-dimensional) data structure\n",
    "\n",
    "You can create `Series` and `DataFrame` objects by passing the desired values explicitly, e.g. passing a list for a `Series` and a dictionary in the format `{'column': [list of values]}` for a `DataFrame` .\n",
    "\n",
    "pandas also offers some helper functions to load data from specific formats, e.g. `read_csv()`.\n",
    "\n",
    "\n",
    "## 2. Description of the data\n",
    "\n",
    "In the next couple notebooks, we'll perform some analysis on a (semi-)randomly generated data set of clients and transactions (people buying stuff at a fake store).\n",
    "\n",
    "There are two tables that we will load into pandas DataFrames: `clients` and `transactions`.\n",
    "\n",
    "Attributes of `clients`:\n",
    "\n",
    "- `client_id`: unique number identifying the client\n",
    "- `name`: string representing the full (fake) name of the client\n",
    "- `date_of_birth`: datetime object representing the date of birth\n",
    "- `city`: string representing the location of the client \n",
    "\n",
    "Attributes of `transactions`:\n",
    "\n",
    "- `transaction_id`: unique number identifying the transaction\n",
    "- `client_id`: id of the client associated with the transaction\n",
    "- `date`: datetime object representing the date of the transaction\n",
    "- `product`: string representing the specific product being purchased\n",
    "- `quantity`: number of items purchased for the specific product\n",
    "- `unit_price`: number representing the price of a single unit for the specific product\n",
    "- `total`: unit price times quantity for the specific product"
   ]
  },
  {
   "cell_type": "code",
   "execution_count": null,
   "metadata": {},
   "outputs": [],
   "source": [
    "clients_file = '../data/fake_shop/fake_clients.csv'\n",
    "transactions_file = '../data/fake_shop/fake_transactions.csv'"
   ]
  },
  {
   "cell_type": "markdown",
   "metadata": {},
   "source": [
    "## 3. Loading Data From CSV\n",
    "\n",
    "The function `pandas.read_csv()` can be used to load a CSV file into a pandas `DataFrame`.\n",
    "\n",
    "pandas also supports other file formats out of the box: https://pandas.pydata.org/pandas-docs/stable/user_guide/io.html"
   ]
  },
  {
   "cell_type": "code",
   "execution_count": null,
   "metadata": {},
   "outputs": [],
   "source": [
    "clients = pd.read_csv(clients_file, parse_dates=['date_of_birth'], encoding='utf-8')\n",
    "clients"
   ]
  },
  {
   "cell_type": "markdown",
   "metadata": {},
   "source": [
    "#### A Note About the `read_csv()` function\n",
    "\n",
    "The `pandas.read_csv()` function takes several optional arguments to customise the way we load the file.\n",
    "\n",
    "e.g. in the example above, we're using `parse_dates` to specify which columns should be trated as `datetime` objects rather than plain strings.\n",
    "\n",
    "Full reference: https://pandas.pydata.org/pandas-docs/stable/reference/api/pandas.read_csv.html"
   ]
  },
  {
   "cell_type": "markdown",
   "metadata": {},
   "source": [
    "## 4. Inspecting the `DataFrame`\n",
    "\n",
    "Instead of printing out the whole `DataFrame`, we can inspect the first few records using `head()`.\n",
    "\n",
    "Note: `head()` returns a new `DataFrame`, made of the desired number of records.\n",
    "\n",
    "Most functions working on a `DataFrame` or a `Series` don't modify the original data structure, but create a new one instead. For downstream processing, you could also save the output to a new variable name instead of printing it out directly like we're doing here."
   ]
  },
  {
   "cell_type": "code",
   "execution_count": null,
   "metadata": {},
   "outputs": [],
   "source": [
    "clients.head()  # first 5 records"
   ]
  },
  {
   "cell_type": "code",
   "execution_count": null,
   "metadata": {},
   "outputs": [],
   "source": [
    "clients.head(10)  # first 10 records"
   ]
  },
  {
   "cell_type": "markdown",
   "metadata": {},
   "source": [
    "The function `info()` provides an overview on data types and null values"
   ]
  },
  {
   "cell_type": "code",
   "execution_count": null,
   "metadata": {},
   "outputs": [],
   "source": [
    "clients.info()"
   ]
  },
  {
   "cell_type": "markdown",
   "metadata": {},
   "source": [
    "The function `count()` provides the number of non-null values per field"
   ]
  },
  {
   "cell_type": "code",
   "execution_count": null,
   "metadata": {},
   "outputs": [],
   "source": [
    "clients.count()"
   ]
  },
  {
   "cell_type": "markdown",
   "metadata": {},
   "source": [
    "The attribute `columns` returns the sequence of column names (index) of the `DataFrame`"
   ]
  },
  {
   "cell_type": "code",
   "execution_count": null,
   "metadata": {},
   "outputs": [],
   "source": [
    "clients.columns"
   ]
  },
  {
   "cell_type": "markdown",
   "metadata": {},
   "source": [
    "The function `tail()` is similar to `head()`, but works with the end of the `DataFrame`"
   ]
  },
  {
   "cell_type": "code",
   "execution_count": null,
   "metadata": {},
   "outputs": [],
   "source": [
    "clients.tail()"
   ]
  },
  {
   "cell_type": "markdown",
   "metadata": {},
   "source": [
    "Let's load the dataset of transactions:"
   ]
  },
  {
   "cell_type": "code",
   "execution_count": null,
   "metadata": {},
   "outputs": [],
   "source": [
    "transactions = pd.read_csv(transactions_file)\n",
    "transactions.head(10)"
   ]
  },
  {
   "cell_type": "code",
   "execution_count": null,
   "metadata": {},
   "outputs": [],
   "source": [
    "transactions.info()"
   ]
  },
  {
   "cell_type": "markdown",
   "metadata": {},
   "source": [
    "You may notice from the result of running `info()` above that the [dtype](https://pandas.pydata.org/pandas-docs/stable/user_guide/basics.html#basics-dtypes) of the date column is an object instead of a datetime. This is because pandas thinks it is a string instead of a date. This is bad not just from an efficiency standpoint, and also because you wouldn't be able to do datetime operations on that column (eg: comparing if it's earlier or later vs another date). It is good practice to process the data and fix this as early on as possible!\n",
    "\n",
    "#### Exercise\n",
    "\n",
    "Reload the transactions file, making sure that the column `date` is parsed as `datetime` object."
   ]
  },
  {
   "cell_type": "code",
   "execution_count": null,
   "metadata": {},
   "outputs": [],
   "source": [
    "# Write your solution here:\n"
   ]
  },
  {
   "cell_type": "markdown",
   "metadata": {},
   "source": [
    "If you are having trouble, recall the discussion earlier in this notebook about how `read_csv()` takes optional arguments to customise the way we load the file.\n",
    "\n",
    "Or reveal the solution below:"
   ]
  },
  {
   "cell_type": "code",
   "execution_count": null,
   "metadata": {},
   "outputs": [],
   "source": [
    "# when you run this cell, the cell's contents will be replaced by the solution! MAGIC!\n",
    "%load ../solutions/01-transactions-parse-dates.py"
   ]
  },
  {
   "cell_type": "markdown",
   "metadata": {},
   "source": [
    "The function `describe()` provides an overview on summary statistics.\n",
    "\n",
    "It's run against all the numerical columns."
   ]
  },
  {
   "cell_type": "code",
   "execution_count": null,
   "metadata": {},
   "outputs": [],
   "source": [
    "transactions.describe()"
   ]
  },
  {
   "cell_type": "markdown",
   "metadata": {},
   "source": [
    "**Note**: summary stats on `transaction_id` and `client_id` are not meaningful in this case.\n",
    "\n",
    "It's always worth focusing only on the columns of interest first.\n",
    "\n",
    "Basic statistics can also be computed individually using the relevant functions, e.g."
   ]
  },
  {
   "cell_type": "code",
   "execution_count": null,
   "metadata": {},
   "outputs": [],
   "source": [
    "transactions['total'].sum()"
   ]
  },
  {
   "cell_type": "code",
   "execution_count": null,
   "metadata": {},
   "outputs": [],
   "source": [
    "transactions['unit_price'].min()"
   ]
  },
  {
   "cell_type": "code",
   "execution_count": null,
   "metadata": {},
   "outputs": [],
   "source": [
    "transactions['unit_price'].max()"
   ]
  },
  {
   "cell_type": "code",
   "execution_count": null,
   "metadata": {},
   "outputs": [],
   "source": [
    "transactions['quantity'].mean()"
   ]
  },
  {
   "cell_type": "markdown",
   "metadata": {},
   "source": [
    "For categorical data, we can compute the frequency distribution using `value_counts()`:"
   ]
  },
  {
   "cell_type": "code",
   "execution_count": null,
   "metadata": {},
   "outputs": [],
   "source": [
    "transactions['product'].value_counts()"
   ]
  },
  {
   "cell_type": "markdown",
   "metadata": {},
   "source": [
    "The function `unique()` returns the unique values of a `Series`:"
   ]
  },
  {
   "cell_type": "code",
   "execution_count": null,
   "metadata": {},
   "outputs": [],
   "source": [
    "clients['city'].unique()"
   ]
  },
  {
   "cell_type": "markdown",
   "metadata": {},
   "source": [
    "## 5. Data Selection and Filtering\n",
    "\n",
    "This section discusses different options to select partial subsets of your data.\n",
    "\n",
    "### Select records by row label"
   ]
  },
  {
   "cell_type": "code",
   "execution_count": null,
   "metadata": {},
   "outputs": [],
   "source": [
    "# Select record with row label = 0\n",
    "# the result is a Series\n",
    "clients.loc[0]  "
   ]
  },
  {
   "cell_type": "code",
   "execution_count": null,
   "metadata": {},
   "outputs": [],
   "source": [
    "# Select records with labels between 0 and 2 (included)\n",
    "# the result is a DataFrame\n",
    "clients.loc[0:2]"
   ]
  },
  {
   "cell_type": "markdown",
   "metadata": {},
   "source": [
    "### Select columns by column name"
   ]
  },
  {
   "cell_type": "code",
   "execution_count": null,
   "metadata": {},
   "outputs": [],
   "source": [
    "# Select a column - the output is a Series\n",
    "clients['name']"
   ]
  },
  {
   "cell_type": "code",
   "execution_count": null,
   "metadata": {},
   "outputs": [],
   "source": [
    "# Select multiple columns - the output is a DataFrame\n",
    "clients[['name', 'date_of_birth']]"
   ]
  },
  {
   "cell_type": "markdown",
   "metadata": {},
   "source": [
    "Note: the double square brackets indicate that we're passing a list of labels, e.g."
   ]
  },
  {
   "cell_type": "code",
   "execution_count": null,
   "metadata": {},
   "outputs": [],
   "source": [
    "columns_of_interest = ['name', 'date_of_birth']\n",
    "clients[columns_of_interest].head()"
   ]
  },
  {
   "cell_type": "markdown",
   "metadata": {},
   "source": [
    "#### Exercise\n",
    "\n",
    "Use the function `describe()` to get the overview on summary statistics for the table of transactions.\n",
    "\n",
    "Focus only on the relevant numerical columns: `quantity`, `unit_price` and `total`."
   ]
  },
  {
   "cell_type": "code",
   "execution_count": null,
   "metadata": {},
   "outputs": [],
   "source": [
    "# Write your solution here\n"
   ]
  },
  {
   "cell_type": "code",
   "execution_count": null,
   "metadata": {},
   "outputs": [],
   "source": [
    "# or load the proposed solution by running this cell\n",
    "%load ../solutions/01-transactions-describe.py"
   ]
  },
  {
   "cell_type": "markdown",
   "metadata": {},
   "source": [
    "### Select the intersection of rows and columns (by label/name)"
   ]
  },
  {
   "cell_type": "code",
   "execution_count": null,
   "metadata": {},
   "outputs": [],
   "source": [
    "transactions.loc[0:3, ['product', 'total']]  # select by both rows and columns at the same time"
   ]
  },
  {
   "cell_type": "markdown",
   "metadata": {},
   "source": [
    "### Select records using a condition\n",
    "\n",
    "Comparisons are performed element-wise, e.g."
   ]
  },
  {
   "cell_type": "code",
   "execution_count": null,
   "metadata": {},
   "outputs": [],
   "source": [
    "transactions['unit_price'] > 2"
   ]
  },
  {
   "cell_type": "markdown",
   "metadata": {},
   "source": [
    "A boolean Series can be used for selecting records based on a condition:"
   ]
  },
  {
   "cell_type": "code",
   "execution_count": null,
   "metadata": {},
   "outputs": [],
   "source": [
    "transactions[transactions['unit_price'] > 2]"
   ]
  },
  {
   "cell_type": "markdown",
   "metadata": {},
   "source": [
    "We can combine multiple conditions with *bitwise operators*:\n",
    "\n",
    "- `&` instead of `and`\n",
    "- `|` instead of `or`\n",
    "- `~` instead o `not`\n",
    "\n",
    "Note: the Python boolean operators `and`, `or` and `not` work on values that can be considered `True` or `False`. For a pandas `Series`, the truth value is ambiguous, hence *bitwise operators* are used."
   ]
  },
  {
   "cell_type": "code",
   "execution_count": null,
   "metadata": {},
   "outputs": [],
   "source": [
    "transactions[(transactions['unit_price'] > 2) & (transactions['quantity'] > 2)]"
   ]
  },
  {
   "cell_type": "markdown",
   "metadata": {},
   "source": [
    "**Note**: the round brackets around each `(condition)` are required because *bitwise operators* have high priority, so we need to force the order of operations.\n",
    "\n",
    "**Tip**: when a condition is complex or difficult to read, we can break it down to improve readability.\n",
    "\n",
    "For example the previous cell could be rephrased as:"
   ]
  },
  {
   "cell_type": "code",
   "execution_count": null,
   "metadata": {},
   "outputs": [],
   "source": [
    "# No need for round brackets here, the order of operations is clearly defined\n",
    "price_over_2 = transactions['unit_price'] > 2\n",
    "quantity_over_2 = transactions['quantity'] > 2\n",
    "condition = price_over_2 & quantity_over_2\n",
    "\n",
    "transactions[condition]"
   ]
  },
  {
   "cell_type": "markdown",
   "metadata": {},
   "source": [
    "## 6. Data transformations\n",
    "\n",
    "### Arithmetic operations\n",
    "\n",
    "Basic arithmetic operations are performed element-wise, e.g."
   ]
  },
  {
   "cell_type": "code",
   "execution_count": null,
   "metadata": {},
   "outputs": [],
   "source": [
    "vat_percentage = 0.2\n",
    "transactions['vat_to_add'] = transactions['total'] * vat_percentage\n",
    "\n",
    "transactions.head()"
   ]
  },
  {
   "cell_type": "markdown",
   "metadata": {},
   "source": [
    "Also between two `Series`, as long as the index is compatible (e.g. two columns of the same table):"
   ]
  },
  {
   "cell_type": "code",
   "execution_count": null,
   "metadata": {},
   "outputs": [],
   "source": [
    "transactions['total_with_vat'] = transactions['total'] + transactions['vat_to_add']\n",
    "\n",
    "transactions.head()"
   ]
  },
  {
   "cell_type": "markdown",
   "metadata": {},
   "source": [
    "### Applying custom functions\n",
    "\n",
    "A custom function can be applied to all the elements of the `Series` using the function `apply()`."
   ]
  },
  {
   "cell_type": "code",
   "execution_count": null,
   "metadata": {},
   "outputs": [],
   "source": [
    "def describe_price(price):\n",
    "    if price <= 2:\n",
    "        return 'Cheap'\n",
    "    elif price >= 5:\n",
    "        return 'Expensive'\n",
    "    else:\n",
    "        return 'Fair'\n",
    "    \n",
    "transactions['unit_price'].apply(describe_price)"
   ]
  },
  {
   "cell_type": "markdown",
   "metadata": {},
   "source": [
    "### Mapping values\n",
    "\n",
    "We can map specific values from a `Series` to other custom values, passing them as a dictionary to the function `map()`"
   ]
  },
  {
   "cell_type": "code",
   "execution_count": null,
   "metadata": {},
   "outputs": [],
   "source": [
    "price_descriptions = {\n",
    "    5: 'EXPENSIVE!',\n",
    "    1: 'CHEAP!'\n",
    "}\n",
    "\n",
    "transactions['unit_price'].map(price_descriptions)"
   ]
  },
  {
   "cell_type": "markdown",
   "metadata": {},
   "source": [
    "Note: values that are not explicitly described in the mapping are converted to null values"
   ]
  },
  {
   "cell_type": "markdown",
   "metadata": {},
   "source": [
    "### Working with text\n",
    "\n",
    "The `.str` attribute of a `Series` offers the same interface as the string manipulation functions from regular Python strings.\n",
    "\n",
    "The functions are applied element-wise.\n",
    "\n",
    "Examples of functions:\n",
    "\n",
    "- `upper()`, `lower()`, `capitalize()`\n",
    "- `split()`\n",
    "- `replace()`\n",
    "- `startswith()`, `endswith()`, `contains()`\n",
    "- `islower()`, `isupper()`, `isalpha()`, `isdigit()`"
   ]
  },
  {
   "cell_type": "code",
   "execution_count": null,
   "metadata": {},
   "outputs": [],
   "source": [
    "transactions['product'].str.upper()"
   ]
  },
  {
   "cell_type": "code",
   "execution_count": null,
   "metadata": {},
   "outputs": [],
   "source": [
    "transactions['product'].str.contains('Ice')"
   ]
  },
  {
   "cell_type": "markdown",
   "metadata": {},
   "source": [
    "**Try it yourself**: if you're not familiar with regular Python strings, try different functions from the list above to build an intuition of how they work."
   ]
  },
  {
   "cell_type": "markdown",
   "metadata": {},
   "source": [
    "### Working with dates\n",
    "\n",
    "The `.dt` attribute of a `Series` offers a datetime-like interface. The functions/attributes are applied element-wise."
   ]
  },
  {
   "cell_type": "code",
   "execution_count": null,
   "metadata": {},
   "outputs": [],
   "source": [
    "clients['date_of_birth'].dt.year"
   ]
  },
  {
   "cell_type": "code",
   "execution_count": null,
   "metadata": {},
   "outputs": [],
   "source": [
    "clients['date_of_birth'].dt.strftime('%d %B, %Y')"
   ]
  },
  {
   "cell_type": "markdown",
   "metadata": {},
   "source": [
    "## 7. Sorting Values\n",
    "\n",
    "The `sort_values()` function sorts by value.\n",
    "\n",
    "The default behaviour is to sort low-to-high, numerically of alphabetically depending on the columns data type."
   ]
  },
  {
   "cell_type": "code",
   "execution_count": null,
   "metadata": {},
   "outputs": [],
   "source": [
    "transactions.sort_values(by='product')"
   ]
  },
  {
   "cell_type": "code",
   "execution_count": null,
   "metadata": {},
   "outputs": [],
   "source": [
    "clients.sort_values(by='date_of_birth', ascending=False)"
   ]
  },
  {
   "cell_type": "markdown",
   "metadata": {},
   "source": [
    "Note: `NaT` at the end of the output is similar to `NaN`, but for datetime columns."
   ]
  },
  {
   "cell_type": "markdown",
   "metadata": {},
   "source": [
    "## Exercises\n",
    "\n",
    "Once you are familiar with the concepts described in this notebook, please continue with the following notebook:\n",
    "\n",
    "[Exercises on pandas basics](01.1%20-%20Exercises%20on%20pandas%20basics.ipynb)"
   ]
  },
  {
   "cell_type": "code",
   "execution_count": null,
   "metadata": {},
   "outputs": [],
   "source": []
  }
 ],
 "metadata": {
  "kernelspec": {
   "display_name": "Python 3",
   "language": "python",
   "name": "python3"
  },
  "language_info": {
   "codemirror_mode": {
    "name": "ipython",
    "version": 3
   },
   "file_extension": ".py",
   "mimetype": "text/x-python",
   "name": "python",
   "nbconvert_exporter": "python",
   "pygments_lexer": "ipython3",
   "version": "3.8.5"
  }
 },
 "nbformat": 4,
 "nbformat_minor": 2
}
