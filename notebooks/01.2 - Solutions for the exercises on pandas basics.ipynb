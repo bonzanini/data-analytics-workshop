{
 "cells": [
  {
   "cell_type": "markdown",
   "metadata": {},
   "source": [
    "## Solutions for the exercises on pandas basics\n",
    "\n",
    "This notebooks contains the proposed solutions for the exercises listed in the notebook [01.1 - Exercises on pandas basics](01.1%20-%20Exercises%20on%20pandas%20basics.ipynb)."
   ]
  },
  {
   "cell_type": "code",
   "execution_count": null,
   "metadata": {},
   "outputs": [],
   "source": [
    "import pandas as pd\n",
    "\n",
    "clients_file = '../data/fake_shop/fake_clients.csv'\n",
    "transactions_file = '../data/fake_shop/fake_transactions.csv'\n",
    "\n",
    "clients = pd.read_csv(clients_file, parse_dates=['date_of_birth'])\n",
    "transactions = pd.read_csv(transactions_file, parse_dates=['date'])"
   ]
  },
  {
   "cell_type": "markdown",
   "metadata": {},
   "source": [
    "### 1. How many different persons are listed in the clients `DataFrame`?"
   ]
  },
  {
   "cell_type": "code",
   "execution_count": null,
   "metadata": {},
   "outputs": [],
   "source": [
    "len(clients)"
   ]
  },
  {
   "cell_type": "markdown",
   "metadata": {},
   "source": [
    "### 2. How many different cities are listed in the clients `DataFrame`?"
   ]
  },
  {
   "cell_type": "code",
   "execution_count": null,
   "metadata": {},
   "outputs": [],
   "source": [
    "len(clients['city'].unique())"
   ]
  },
  {
   "cell_type": "markdown",
   "metadata": {},
   "source": [
    "### 3. Show only the columns `name` and `city` of the clients `DataFrame`"
   ]
  },
  {
   "cell_type": "code",
   "execution_count": null,
   "metadata": {},
   "outputs": [],
   "source": [
    "clients[['name', 'city']]"
   ]
  },
  {
   "cell_type": "markdown",
   "metadata": {},
   "source": [
    "### 4. Who is the youngest person in the clients `DataFrame`?"
   ]
  },
  {
   "cell_type": "code",
   "execution_count": null,
   "metadata": {},
   "outputs": [],
   "source": [
    "# This shows only one person\n",
    "# If more people are \"the youngest\" (i.e. sharing the birthday), only one will be shown\n",
    "clients.sort_values(by='date_of_birth', ascending=False).head(1)"
   ]
  },
  {
   "cell_type": "code",
   "execution_count": null,
   "metadata": {},
   "outputs": [],
   "source": [
    "# This can show more than one person if several people are \"the youngest\" (i.e. sharing the birthday)\n",
    "clients[clients['date_of_birth'] == clients['date_of_birth'].max()]"
   ]
  },
  {
   "cell_type": "markdown",
   "metadata": {},
   "source": [
    "### 5. Who are the three oldest persons in the clients `DataFrame`?"
   ]
  },
  {
   "cell_type": "code",
   "execution_count": null,
   "metadata": {},
   "outputs": [],
   "source": [
    "# Similar to the above, if more people are sharing the birthday\n",
    "clients.sort_values(by='date_of_birth').head(3)"
   ]
  },
  {
   "cell_type": "markdown",
   "metadata": {},
   "source": [
    "### 6. List all clients from `Clarkechester`"
   ]
  },
  {
   "cell_type": "code",
   "execution_count": null,
   "metadata": {},
   "outputs": [],
   "source": [
    "clients[clients['city'] == 'Clarkechester']"
   ]
  },
  {
   "cell_type": "markdown",
   "metadata": {},
   "source": [
    "### 7. List all clients from `Clarkechester` in alphabetical order"
   ]
  },
  {
   "cell_type": "code",
   "execution_count": null,
   "metadata": {},
   "outputs": [],
   "source": [
    "clients[clients['city'] == 'Clarkechester'].sort_values(by='name')"
   ]
  },
  {
   "cell_type": "markdown",
   "metadata": {},
   "source": [
    "### 8. List all clients born between `1990` and `1995` (included)"
   ]
  },
  {
   "cell_type": "code",
   "execution_count": null,
   "metadata": {},
   "outputs": [],
   "source": [
    "from_1990 = clients['date_of_birth'].dt.year >= 1990\n",
    "to_1995 = clients['date_of_birth'].dt.year <= 1995\n",
    "\n",
    "clients[from_1990 & to_1995]"
   ]
  },
  {
   "cell_type": "markdown",
   "metadata": {},
   "source": [
    "### 9. What's the average age of clients from `Clarkechester`?"
   ]
  },
  {
   "cell_type": "code",
   "execution_count": null,
   "metadata": {},
   "outputs": [],
   "source": [
    "clients[clients['city'] == 'Clarkechester']['age'].mean()"
   ]
  },
  {
   "cell_type": "markdown",
   "metadata": {},
   "source": [
    "### 10. List all transactions for the client with `client_id=1`"
   ]
  },
  {
   "cell_type": "code",
   "execution_count": null,
   "metadata": {},
   "outputs": [],
   "source": [
    "transactions[transactions['client_id'] == 1]"
   ]
  },
  {
   "cell_type": "markdown",
   "metadata": {},
   "source": [
    "### 11. How many different transactions are listed for the client with `client_id=1`?"
   ]
  },
  {
   "cell_type": "code",
   "execution_count": null,
   "metadata": {},
   "outputs": [],
   "source": [
    "len(transactions[transactions['client_id'] == 1]['transaction_id'].unique())"
   ]
  },
  {
   "cell_type": "markdown",
   "metadata": {},
   "source": [
    "### 12. How many items (total quantity) have been purchased by the client with `client_id=1`?"
   ]
  },
  {
   "cell_type": "code",
   "execution_count": null,
   "metadata": {},
   "outputs": [],
   "source": [
    "transactions[transactions['client_id'] == 1]['quantity'].sum()"
   ]
  },
  {
   "cell_type": "markdown",
   "metadata": {},
   "source": [
    "### 13. Display all the products purchased in the transaction with `transaction_id=1`, in descreasing order of unit price"
   ]
  },
  {
   "cell_type": "code",
   "execution_count": null,
   "metadata": {},
   "outputs": [],
   "source": [
    "transactions[transactions['transaction_id'] == 1].sort_values(by='unit_price', ascending=False)"
   ]
  },
  {
   "cell_type": "markdown",
   "metadata": {},
   "source": [
    "### 14. Display all the products purchased in the transaction with `transaction_id=1`, in increasing order of total cost"
   ]
  },
  {
   "cell_type": "code",
   "execution_count": null,
   "metadata": {},
   "outputs": [],
   "source": [
    "transactions[transactions['transaction_id'] == 1].sort_values(by='total')"
   ]
  },
  {
   "cell_type": "markdown",
   "metadata": {},
   "source": [
    "### 15. Who is the youngest client from `West Timothybury`?"
   ]
  },
  {
   "cell_type": "code",
   "execution_count": null,
   "metadata": {},
   "outputs": [],
   "source": [
    "# This shows only one person\n",
    "clients[clients['city'] == 'West Timothybury'].sort_values('date_of_birth', ascending=False).head(1)"
   ]
  },
  {
   "cell_type": "code",
   "execution_count": null,
   "metadata": {},
   "outputs": [],
   "source": [
    "# If several people share the birthday, show all of them\n",
    "clients_from_wt = clients[clients['city'] == 'West Timothybury']\n",
    "\n",
    "clients_from_wt[clients_from_wt['date_of_birth'] == clients_from_wt['date_of_birth'].max()]"
   ]
  },
  {
   "cell_type": "markdown",
   "metadata": {},
   "source": [
    "### 16. How many different dates are listed in the transactions `DataFrame`?"
   ]
  },
  {
   "cell_type": "code",
   "execution_count": null,
   "metadata": {},
   "outputs": [],
   "source": [
    "len(transactions['date'].unique())"
   ]
  },
  {
   "cell_type": "markdown",
   "metadata": {},
   "source": [
    "### 17. List the number of clients for each city"
   ]
  },
  {
   "cell_type": "code",
   "execution_count": null,
   "metadata": {},
   "outputs": [],
   "source": [
    "clients['city'].value_counts()"
   ]
  },
  {
   "cell_type": "markdown",
   "metadata": {},
   "source": [
    "### 18. Display all the clients from `West Timothybury`, ordered by age (young-to-old)"
   ]
  },
  {
   "cell_type": "code",
   "execution_count": null,
   "metadata": {},
   "outputs": [],
   "source": [
    "clients[clients['city'] == 'West Timothybury'].sort_values(by='date_of_birth', ascending=False)"
   ]
  },
  {
   "cell_type": "markdown",
   "metadata": {},
   "source": [
    "### 19. What's the average number of different items purchased per transaction?"
   ]
  },
  {
   "cell_type": "code",
   "execution_count": null,
   "metadata": {},
   "outputs": [],
   "source": [
    "transactions['transaction_id'].value_counts().mean()"
   ]
  },
  {
   "cell_type": "markdown",
   "metadata": {},
   "source": [
    "### 20. Add a column `age` to the clients table, which contains the age of the person in number of years\n",
    "\n",
    "Hints:\n",
    "- `datetime.today()` returns a datetime object with the current date\n",
    "- Use `pandas.notnull()` to check that the date of birth is not null\n",
    "- If the date of birth is null, return a `None` value for the age\n",
    "- Consider the person's birthday for this year too!"
   ]
  },
  {
   "cell_type": "code",
   "execution_count": null,
   "metadata": {},
   "outputs": [],
   "source": [
    "from datetime import datetime\n",
    "\n",
    "def person_age(birthday):\n",
    "    age = None\n",
    "    if pd.notnull(birthday):\n",
    "        today = datetime.today()\n",
    "        age = today.year - birthday.year\n",
    "        if today > datetime(today.year, birthday.month, birthday.day):\n",
    "            age -= 1\n",
    "    return age\n",
    "    \n",
    "clients['age'] = clients['date_of_birth'].apply(person_age)\n",
    "clients.head()"
   ]
  }
 ],
 "metadata": {
  "kernelspec": {
   "display_name": "Python 3",
   "language": "python",
   "name": "python3"
  },
  "language_info": {
   "codemirror_mode": {
    "name": "ipython",
    "version": 3
   },
   "file_extension": ".py",
   "mimetype": "text/x-python",
   "name": "python",
   "nbconvert_exporter": "python",
   "pygments_lexer": "ipython3",
   "version": "3.8.5"
  }
 },
 "nbformat": 4,
 "nbformat_minor": 2
}
