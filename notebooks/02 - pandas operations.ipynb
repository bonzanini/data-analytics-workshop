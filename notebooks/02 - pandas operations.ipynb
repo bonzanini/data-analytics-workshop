{
 "cells": [
  {
   "cell_type": "markdown",
   "metadata": {},
   "source": [
    "# pandas operations\n",
    "\n",
    "In this notebook:\n",
    "\n",
    "- Data aggregation: `groupby()`\n",
    "- Joining `DataFrame` objects: `merge()`\n",
    "- Basics of data visualisation with pandas: `plot()`"
   ]
  },
  {
   "cell_type": "code",
   "execution_count": null,
   "metadata": {},
   "outputs": [],
   "source": [
    "import pandas as pd\n",
    "\n",
    "clients_file = '../data/fake_shop/fake_clients.csv'\n",
    "transactions_file = '../data/fake_shop/fake_transactions.csv'\n",
    "\n",
    "clients = pd.read_csv(clients_file, parse_dates=['date_of_birth'])\n",
    "transactions = pd.read_csv(transactions_file, parse_dates=['date'])"
   ]
  },
  {
   "cell_type": "markdown",
   "metadata": {},
   "source": [
    "## Data aggregation\n",
    "\n",
    "This section is about data aggregation, using the `groupby()` function.\n",
    "\n",
    "If you're familiar with SQL, there are similarities with `GROUP BY` queries.\n",
    "\n",
    "First, let's look at the structure of the transaction `DataFrame`."
   ]
  },
  {
   "cell_type": "code",
   "execution_count": null,
   "metadata": {},
   "outputs": [],
   "source": [
    "transactions.head()"
   ]
  },
  {
   "cell_type": "markdown",
   "metadata": {},
   "source": [
    "Given this schema, we might be interested in aggregating data per client.\n",
    "\n",
    "The `groupby()` function creates an intermediate object that we can use to run downstream aggregation functions."
   ]
  },
  {
   "cell_type": "code",
   "execution_count": null,
   "metadata": {},
   "outputs": [],
   "source": [
    "transactions.groupby('client_id')"
   ]
  },
  {
   "cell_type": "code",
   "execution_count": null,
   "metadata": {},
   "outputs": [],
   "source": [
    "transactions.groupby('client_id').sum()"
   ]
  },
  {
   "cell_type": "markdown",
   "metadata": {},
   "source": [
    "Depending on the specific aggregation function, `sum()` in the example above, we may want to focus on specific columns where the function makes more sense, e.g. summing up transaction_id is not useful.\n",
    "\n",
    "We can do a projection on the column(s) of interest before running the aggregation.\n",
    "\n",
    "**Example**: compute the grand-total for each customer"
   ]
  },
  {
   "cell_type": "code",
   "execution_count": null,
   "metadata": {},
   "outputs": [],
   "source": [
    "transactions.groupby('client_id')['total'].sum()"
   ]
  },
  {
   "cell_type": "markdown",
   "metadata": {},
   "source": [
    "**Example**: compute the total cost of each transaction."
   ]
  },
  {
   "cell_type": "code",
   "execution_count": null,
   "metadata": {},
   "outputs": [],
   "source": [
    "transactions.groupby('transaction_id')['total'].sum()"
   ]
  },
  {
   "cell_type": "markdown",
   "metadata": {},
   "source": [
    "**Example**: compute the average total cost per transaction:"
   ]
  },
  {
   "cell_type": "code",
   "execution_count": null,
   "metadata": {},
   "outputs": [],
   "source": [
    "transactions.groupby('transaction_id')['total'].sum().mean()"
   ]
  },
  {
   "cell_type": "markdown",
   "metadata": {},
   "source": [
    "**Example**: compute the number of different shopping days per customer"
   ]
  },
  {
   "cell_type": "code",
   "execution_count": null,
   "metadata": {},
   "outputs": [],
   "source": [
    "transactions.groupby('client_id')['date'].nunique()"
   ]
  },
  {
   "cell_type": "markdown",
   "metadata": {},
   "source": [
    "The `groupby()` function also allows to group by multiple fields.\n",
    "\n",
    "**Example**: compute the amount spent by each customer on different products:"
   ]
  },
  {
   "cell_type": "code",
   "execution_count": null,
   "metadata": {},
   "outputs": [],
   "source": [
    "transactions.groupby(['client_id', 'product'])['total'].sum()"
   ]
  },
  {
   "cell_type": "markdown",
   "metadata": {},
   "source": [
    "#### List of aggregation functions\n",
    "\n",
    "- `sum()` for the arithmetic sum\n",
    "- `mean()` for the arithmetic average\n",
    "- `count()` for the count of records (`NaN` not included)\n",
    "- `size()` for the count of records including `NaN`\n",
    "- `nunique()` for the number of unique records\n",
    "- `var()` and `std()` for variance and standard deviation\n",
    "- `min()` and `max()` for minimum and maximum\n",
    "- `first()`, `last()`, `nth()` for the first, last and Nth record\n",
    "- `describe()` for overall descriptive statistics"
   ]
  },
  {
   "cell_type": "markdown",
   "metadata": {},
   "source": [
    "### Applying multiple aggregation function at once\n",
    "\n",
    "The function `aggregate()` (or simply `agg()` in short) allows to pass multiple functions at once.\n",
    "\n",
    "**Example**: compute the total cost and number of different products for each transaction"
   ]
  },
  {
   "cell_type": "code",
   "execution_count": null,
   "metadata": {},
   "outputs": [],
   "source": [
    "import numpy as np\n",
    "\n",
    "transactions.groupby('transaction_id')['total'].agg([np.sum, np.size])"
   ]
  },
  {
   "cell_type": "markdown",
   "metadata": {},
   "source": [
    "We can also explicitly name the column labels for the output:"
   ]
  },
  {
   "cell_type": "code",
   "execution_count": null,
   "metadata": {},
   "outputs": [],
   "source": [
    "transactions.groupby('transaction_id')['total'].agg(total_cost=np.sum,\n",
    "                                                    n_different_products=np.size)  # label_name=function_name"
   ]
  },
  {
   "cell_type": "markdown",
   "metadata": {},
   "source": [
    "#### References:\n",
    "\n",
    "https://pandas.pydata.org/pandas-docs/stable/user_guide/groupby.html\n",
    "\n",
    "https://pandas.pydata.org/pandas-docs/stable/reference/api/pandas.DataFrame.groupby.html"
   ]
  },
  {
   "cell_type": "markdown",
   "metadata": {},
   "source": [
    "## Joining `DataFrame` objects\n",
    "\n",
    "This section is about joining `DataFrame` objects.\n",
    "\n",
    "If you're familiar with SQL, you'll find similarities with `JOIN` queries.\n",
    "\n",
    "A joining operation is used to combine records from different `DataFrame` objects, based on either the index or the value of some columns.\n",
    "\n",
    "Firstly, let's consider the structure of the tables: both have a `client_id` column, and this will be our joining key.\n",
    "\n",
    "The joining operation can be performed with the function `merge()`.\n",
    "\n",
    "**Note**: like the SQL equivalent, `merge()` uses a notion of left/right tables, which affects the order of the columns in output. "
   ]
  },
  {
   "cell_type": "code",
   "execution_count": null,
   "metadata": {},
   "outputs": [],
   "source": [
    "pd.merge(left=clients, right=transactions, on='client_id')"
   ]
  },
  {
   "cell_type": "markdown",
   "metadata": {},
   "source": [
    "For cases where the joining key has different names in the different tables, we can use `left_on` and `right_on`:"
   ]
  },
  {
   "cell_type": "code",
   "execution_count": null,
   "metadata": {},
   "outputs": [],
   "source": [
    "pd.merge(left=clients, right=transactions, left_on='client_id', right_on='client_id')"
   ]
  },
  {
   "cell_type": "markdown",
   "metadata": {},
   "source": [
    "There are different types of joins:\n",
    "\n",
    "- `inner` (default): only records with matching values on both sides will be included\n",
    "- `left`: all records from the left table are included, if there's no match on the right table then fill the blanks with `NaN`\n",
    "- `right`: all records from the right table are included, if there's no match on the left table then fill the blanks with `NaN`\n",
    "- `outer`: all records from both tables are included, if there's no match on the other table then fill the blanks with `NaN`\n",
    "\n",
    "This behaviour is modified using the `how` argument, e.g."
   ]
  },
  {
   "cell_type": "code",
   "execution_count": null,
   "metadata": {},
   "outputs": [],
   "source": [
    "pd.merge(left=clients, right=transactions, left_on='client_id', right_on='client_id', how='outer')"
   ]
  },
  {
   "cell_type": "markdown",
   "metadata": {},
   "source": [
    "## Basics of data visualisation with pandas\n",
    "\n",
    "pandas offers a nice integration with data visualisation libraries (matplotlib by default).\n",
    "\n",
    "pandas `DataFrame` objects support a method `plot()` which allows you to easily visualise your data.\n",
    "\n",
    "#### References:\n",
    "\n",
    "https://pandas.pydata.org/pandas-docs/stable/user_guide/visualization.html\n",
    "\n",
    "https://pandas.pydata.org/pandas-docs/stable/user_guide/cookbook.html#cookbook-plotting\n",
    "\n",
    "https://pandas.pydata.org/pandas-docs/version/0.23.4/generated/pandas.DataFrame.plot.html"
   ]
  },
  {
   "cell_type": "code",
   "execution_count": null,
   "metadata": {},
   "outputs": [],
   "source": [
    "# The following line tells matplotlib to visualise the output within the notebook\n",
    "%matplotlib inline"
   ]
  },
  {
   "cell_type": "code",
   "execution_count": null,
   "metadata": {},
   "outputs": [],
   "source": [
    "# Default: line chart\n",
    "# This calls matplotlib.pyplot.plot()\n",
    "transactions['product'].value_counts().plot()"
   ]
  },
  {
   "cell_type": "markdown",
   "metadata": {},
   "source": [
    "Note: to hide the reference to the matplotlib object, use a `;` at the end of the line"
   ]
  },
  {
   "cell_type": "code",
   "execution_count": null,
   "metadata": {},
   "outputs": [],
   "source": [
    "# This calls matplotlib.pyplot.bar()\n",
    "transactions['product'].value_counts().plot(kind='bar');"
   ]
  },
  {
   "cell_type": "code",
   "execution_count": null,
   "metadata": {},
   "outputs": [],
   "source": [
    "# This calls matplotlib.pyplot.pie()\n",
    "transactions['product'].value_counts().plot(kind='pie');"
   ]
  },
  {
   "cell_type": "code",
   "execution_count": null,
   "metadata": {},
   "outputs": [],
   "source": [
    "# blue, red, green, yellow, black repeated twice\n",
    "custom_colours = ['b', 'r', 'g', 'y', 'k'] * 2\n",
    "\n",
    "clients['city'].value_counts().plot(kind='bar', color=custom_colours);"
   ]
  },
  {
   "cell_type": "markdown",
   "metadata": {},
   "source": [
    "The following codes are available from the matplotlib library:\n",
    "- `b` for blue\n",
    "- `r` for red\n",
    "- `g` for green\n",
    "- `y` for yellow\n",
    "- `k` for black\n",
    "- `c` for cyan\n",
    "- `m` for magenta\n",
    "- `w` for white\n",
    "\n",
    "It's also possible to pass colours encoded as RGB or RGB-Alpha using tuples.\n",
    "\n",
    "The values must be normalised in a \\[0-1\\] range."
   ]
  },
  {
   "cell_type": "code",
   "execution_count": null,
   "metadata": {},
   "outputs": [],
   "source": [
    "def normalise(colour):\n",
    "    \"\"\"Take a colour tuple in the form (R, G, B) and normalise it.\n",
    "    \n",
    "    The colours are given in a 0-255 range and returned in a 0-1 range.\n",
    "    \"\"\"\n",
    "    return (colour[0] / 255, colour[1] / 255, colour[2] / 255)\n",
    "    \n",
    "black = (0, 0, 0)\n",
    "dark_grey = (87, 87, 87)\n",
    "red = (173, 35, 35)\n",
    "blue = (42, 75, 215)\n",
    "green = (29, 105, 20)\n",
    "brown = (129, 74, 25)\n",
    "purple = (129, 38, 192)\n",
    "light_grey = (160, 160, 160)\n",
    "light_green = (129, 197, 122)\n",
    "light_blue = (157, 175, 255)\n",
    "cyan = (41, 208, 208)\n",
    "orange = (255, 146, 51)\n",
    "yellow = (255, 238, 51)\n",
    "beige = (233, 222, 187)\n",
    "pink = (255, 205, 243)\n",
    "white = (255, 255, 255)\n",
    "\n",
    "# 15 colours, not including white\n",
    "colormap = [black, yellow, blue, green, brown, red, light_grey, orange, light_green, beige, light_blue, purple, pink, cyan, dark_grey]\n",
    "\n",
    "colormap = [normalise(c) for c in colormap]\n",
    "\n",
    "clients['city'].value_counts().plot(kind='bar', color=colormap);\n"
   ]
  },
  {
   "cell_type": "code",
   "execution_count": null,
   "metadata": {},
   "outputs": [],
   "source": [
    "transactions['product'].value_counts().plot(kind='pie', colors=colormap);"
   ]
  },
  {
   "cell_type": "markdown",
   "metadata": {},
   "source": [
    "Alternatively, we can use the HEX colour representations (as strings)"
   ]
  },
  {
   "cell_type": "code",
   "execution_count": null,
   "metadata": {},
   "outputs": [],
   "source": [
    "rgb_colormap = [black, yellow, blue, green, brown, red, light_grey, orange, light_green, beige, light_blue, purple, pink, cyan, dark_grey]\n",
    "\n",
    "hex_colormap = ['#%02x%02x%02x' % c for c in rgb_colormap]\n",
    "hex_colormap"
   ]
  },
  {
   "cell_type": "code",
   "execution_count": null,
   "metadata": {},
   "outputs": [],
   "source": [
    "clients['city'].value_counts().plot(kind='bar', color=hex_colormap);\n"
   ]
  },
  {
   "cell_type": "markdown",
   "metadata": {},
   "source": [
    "#### Other customisations\n",
    "\n",
    "The function `plot()` takes also other arguments to customise the plot.\n",
    "\n",
    "The output of the `plot()` function is the matplotlib graph itself, so further customisations are possible using the matplotlib API."
   ]
  },
  {
   "cell_type": "code",
   "execution_count": null,
   "metadata": {},
   "outputs": [],
   "source": [
    "ax = clients['city'].value_counts().plot(kind='bar',\n",
    "                                         color=colormap,\n",
    "                                         figsize=(12, 6),\n",
    "                                         title='Number of clients per city')\n",
    "ax.set_xlabel('Cities')\n",
    "ax.set_ylabel('# clients');"
   ]
  },
  {
   "cell_type": "markdown",
   "metadata": {},
   "source": [
    "## Exercises\n",
    "\n",
    "Once you are familiar with the concepts described in this notebook, please continue with the following notebook:\n",
    "\n",
    "[Exercises on pandas operations](02.1%20-%20Exercises%20on%20pandas%20operations.ipynb)"
   ]
  },
  {
   "cell_type": "code",
   "execution_count": null,
   "metadata": {},
   "outputs": [],
   "source": []
  }
 ],
 "metadata": {
  "kernelspec": {
   "display_name": "Python 3",
   "language": "python",
   "name": "python3"
  },
  "language_info": {
   "codemirror_mode": {
    "name": "ipython",
    "version": 3
   },
   "file_extension": ".py",
   "mimetype": "text/x-python",
   "name": "python",
   "nbconvert_exporter": "python",
   "pygments_lexer": "ipython3",
   "version": "3.8.5"
  }
 },
 "nbformat": 4,
 "nbformat_minor": 2
}
